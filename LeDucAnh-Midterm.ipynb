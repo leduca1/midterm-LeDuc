{
 "cells": [
  {
   "cell_type": "code",
   "execution_count": 142,
   "id": "af3c5915-422c-4e8c-8819-ccc2a54aae1f",
   "metadata": {},
   "outputs": [],
   "source": [
    "#Midterm Le Duc Anh\n",
    "\n",
    "#importing packages\n",
    "import pandas as pd\n",
    "import numpy as np\n",
    "import requests\n",
    "import json\n",
    "\n",
    "from bs4 import BeautifulSoup\n",
    "import matplotlib.pyplot as plt\n",
    "import os"
   ]
  },
  {
   "cell_type": "code",
   "execution_count": null,
   "id": "33865080-5266-461e-be86-8434ed014dc3",
   "metadata": {},
   "outputs": [],
   "source": [
    "link = 'https://ies-midterm.soulution.rocks/'\n",
    "\n",
    "#post request\n",
    "\n",
    "r = requests.post(link + 'login', json = {\"cuni\":\"86542930\"})\n",
    "info = r.text\n",
    "\n",
    "\n"
   ]
  },
  {
   "cell_type": "code",
   "execution_count": 14,
   "id": "e01ee907-9d4f-406b-b710-232a756a6898",
   "metadata": {},
   "outputs": [
    {
     "data": {
      "text/plain": [
       "'{\"data\": {\"personal_code\": \"19b93536\", \"dataset_ids\": [\"86c214b421\", \"f894683be9\", \"11f651d1ee\", \"5aa21103e8\", \"779ce2818b\", \"7be200ce5b\", \"64a5d99db0\", \"3bd4cabfaa\", \"8c34bdfc03\"]}, \"message\": \"Hello, Le Duc Anh, Bc! Good luck with the midterm. GET your data set from /data/file_id endpoint; use the codes you received in the data response as the file_id parameter! Print the personal code in your notebook.\"}'"
      ]
     },
     "execution_count": 14,
     "metadata": {},
     "output_type": "execute_result"
    }
   ],
   "source": [
    "info"
   ]
  },
  {
   "cell_type": "code",
   "execution_count": 26,
   "id": "117d8aab-82a8-4526-90fe-27968c2e90e1",
   "metadata": {},
   "outputs": [
    {
     "name": "stdout",
     "output_type": "stream",
     "text": [
      "My personal code is 19b93536\n"
     ]
    }
   ],
   "source": [
    "infoJson = json.loads(info)\n",
    "personalCode = infoJson['data']['personal_code']\n",
    "print('My personal code is', personalCode)"
   ]
  },
  {
   "cell_type": "code",
   "execution_count": 30,
   "id": "f796a45b-6d0c-4878-8ed3-8c5534dd960b",
   "metadata": {},
   "outputs": [
    {
     "data": {
      "text/plain": [
       "['86c214b421',\n",
       " 'f894683be9',\n",
       " '11f651d1ee',\n",
       " '5aa21103e8',\n",
       " '779ce2818b',\n",
       " '7be200ce5b',\n",
       " '64a5d99db0',\n",
       " '3bd4cabfaa',\n",
       " '8c34bdfc03']"
      ]
     },
     "execution_count": 30,
     "metadata": {},
     "output_type": "execute_result"
    }
   ],
   "source": [
    "datasetIDs = infoJson['data']['dataset_ids']\n",
    "datasetIDs "
   ]
  },
  {
   "cell_type": "code",
   "execution_count": 101,
   "id": "2073fdd5-57ba-4cc0-a525-1c93e4242515",
   "metadata": {},
   "outputs": [],
   "source": [
    "requestList = []\n",
    "for i in range(len(datasetIDs)):  \n",
    "    statusCode = 0\n",
    "    while statusCode != 200:\n",
    "        request = requests.get(link + 'data/' + datasetIDs[i])\n",
    "        statusCode = request.status_code\n",
    "        if statusCode == 200:\n",
    "            requestList.append(request)\n",
    "\n",
    "\n",
    "    "
   ]
  },
  {
   "cell_type": "code",
   "execution_count": 133,
   "id": "244b2d96-f507-485b-b418-58626ed3052c",
   "metadata": {},
   "outputs": [
    {
     "data": {
      "text/plain": [
       "[<Response [200]>,\n",
       " <Response [200]>,\n",
       " <Response [200]>,\n",
       " <Response [200]>,\n",
       " <Response [200]>,\n",
       " <Response [200]>,\n",
       " <Response [200]>,\n",
       " <Response [200]>,\n",
       " <Response [200]>]"
      ]
     },
     "execution_count": 133,
     "metadata": {},
     "output_type": "execute_result"
    }
   ],
   "source": [
    "#success \n",
    "requestList"
   ]
  },
  {
   "cell_type": "code",
   "execution_count": 134,
   "id": "4e46e7c5-05d5-481f-a817-59914c1c0d54",
   "metadata": {
    "tags": []
   },
   "outputs": [
    {
     "data": {
      "text/plain": [
       "'{\"data\": {\"company\": \"RTO\", \"data\": [[\"2020-01-24\", \"1865.0\", \"1865.0\", \"1865.0\", \"1865.0\", \"1865.0\", \"0\"], [\"\"]]}, \"message\": \"Columns are in order Date,Open,High,Low,Close,Adj.Close,Volume. Make sure your data are ordered.\"}'"
      ]
     },
     "execution_count": 134,
     "metadata": {},
     "output_type": "execute_result"
    }
   ],
   "source": [
    "requestList[1].text"
   ]
  },
  {
   "cell_type": "code",
   "execution_count": 150,
   "id": "e19ed394-56fc-4e90-a753-0194dc644fb0",
   "metadata": {
    "tags": []
   },
   "outputs": [],
   "source": [
    "jsonData = []\n",
    "for i in range(len(requestList)):\n",
    "    jsonData.append(json.loads(requestList[i].text)['data']['data'])\n",
    "    "
   ]
  },
  {
   "cell_type": "code",
   "execution_count": 191,
   "id": "9a0fdca6-e3e0-4f48-bd0d-64484cafc073",
   "metadata": {},
   "outputs": [
    {
     "data": {
      "text/html": [
       "<div>\n",
       "<style scoped>\n",
       "    .dataframe tbody tr th:only-of-type {\n",
       "        vertical-align: middle;\n",
       "    }\n",
       "\n",
       "    .dataframe tbody tr th {\n",
       "        vertical-align: top;\n",
       "    }\n",
       "\n",
       "    .dataframe thead th {\n",
       "        text-align: right;\n",
       "    }\n",
       "</style>\n",
       "<table border=\"1\" class=\"dataframe\">\n",
       "  <thead>\n",
       "    <tr style=\"text-align: right;\">\n",
       "      <th></th>\n",
       "      <th></th>\n",
       "      <th>Date</th>\n",
       "      <th>Open</th>\n",
       "      <th>High</th>\n",
       "      <th>Low</th>\n",
       "      <th>Close</th>\n",
       "      <th>Adj.Close</th>\n",
       "      <th>Volume</th>\n",
       "    </tr>\n",
       "  </thead>\n",
       "  <tbody>\n",
       "    <tr>\n",
       "      <th rowspan=\"5\" valign=\"top\">TSCO</th>\n",
       "      <th>0</th>\n",
       "      <td>2019-01-02</td>\n",
       "      <td>81.809998</td>\n",
       "      <td>84.010002</td>\n",
       "      <td>80.860001</td>\n",
       "      <td>82.230003</td>\n",
       "      <td>80.107086</td>\n",
       "      <td>1517100.0</td>\n",
       "    </tr>\n",
       "    <tr>\n",
       "      <th>1</th>\n",
       "      <td>2019-01-03</td>\n",
       "      <td>82.080002</td>\n",
       "      <td>82.410004</td>\n",
       "      <td>80.309998</td>\n",
       "      <td>80.680000</td>\n",
       "      <td>78.597084</td>\n",
       "      <td>2161900.0</td>\n",
       "    </tr>\n",
       "    <tr>\n",
       "      <th>2</th>\n",
       "      <td>2019-01-04</td>\n",
       "      <td>82.000000</td>\n",
       "      <td>83.430000</td>\n",
       "      <td>80.900002</td>\n",
       "      <td>82.339996</td>\n",
       "      <td>80.214233</td>\n",
       "      <td>2043500.0</td>\n",
       "    </tr>\n",
       "    <tr>\n",
       "      <th>3</th>\n",
       "      <td>2019-01-07</td>\n",
       "      <td>82.239998</td>\n",
       "      <td>84.510002</td>\n",
       "      <td>82.029999</td>\n",
       "      <td>83.550003</td>\n",
       "      <td>81.392998</td>\n",
       "      <td>2540100.0</td>\n",
       "    </tr>\n",
       "    <tr>\n",
       "      <th>4</th>\n",
       "      <td>2019-01-08</td>\n",
       "      <td>84.129997</td>\n",
       "      <td>84.559998</td>\n",
       "      <td>82.430000</td>\n",
       "      <td>83.500000</td>\n",
       "      <td>81.344292</td>\n",
       "      <td>2002800.0</td>\n",
       "    </tr>\n",
       "    <tr>\n",
       "      <th>...</th>\n",
       "      <th>...</th>\n",
       "      <td>...</td>\n",
       "      <td>...</td>\n",
       "      <td>...</td>\n",
       "      <td>...</td>\n",
       "      <td>...</td>\n",
       "      <td>...</td>\n",
       "      <td>...</td>\n",
       "    </tr>\n",
       "    <tr>\n",
       "      <th rowspan=\"5\" valign=\"top\">IHG</th>\n",
       "      <th>474</th>\n",
       "      <td>2020-11-17</td>\n",
       "      <td>61.090000</td>\n",
       "      <td>62.049999</td>\n",
       "      <td>60.930000</td>\n",
       "      <td>61.540001</td>\n",
       "      <td>61.540001</td>\n",
       "      <td>170400.0</td>\n",
       "    </tr>\n",
       "    <tr>\n",
       "      <th>475</th>\n",
       "      <td>2020-11-18</td>\n",
       "      <td>60.830002</td>\n",
       "      <td>61.730000</td>\n",
       "      <td>60.320000</td>\n",
       "      <td>60.320000</td>\n",
       "      <td>60.320000</td>\n",
       "      <td>134200.0</td>\n",
       "    </tr>\n",
       "    <tr>\n",
       "      <th>476</th>\n",
       "      <td>2020-11-19</td>\n",
       "      <td>59.060001</td>\n",
       "      <td>59.849998</td>\n",
       "      <td>58.880001</td>\n",
       "      <td>59.820000</td>\n",
       "      <td>59.820000</td>\n",
       "      <td>158000.0</td>\n",
       "    </tr>\n",
       "    <tr>\n",
       "      <th>477</th>\n",
       "      <td>2020-11-20</td>\n",
       "      <td>59.930000</td>\n",
       "      <td>60.130001</td>\n",
       "      <td>59.549999</td>\n",
       "      <td>59.669998</td>\n",
       "      <td>59.669998</td>\n",
       "      <td>100500.0</td>\n",
       "    </tr>\n",
       "    <tr>\n",
       "      <th>478</th>\n",
       "      <td></td>\n",
       "      <td>NaN</td>\n",
       "      <td>NaN</td>\n",
       "      <td>NaN</td>\n",
       "      <td>NaN</td>\n",
       "      <td>NaN</td>\n",
       "      <td>NaN</td>\n",
       "    </tr>\n",
       "  </tbody>\n",
       "</table>\n",
       "<p>3460 rows × 7 columns</p>\n",
       "</div>"
      ],
      "text/plain": [
       "                Date       Open       High        Low      Close  Adj.Close  \\\n",
       "TSCO 0    2019-01-02  81.809998  84.010002  80.860001  82.230003  80.107086   \n",
       "     1    2019-01-03  82.080002  82.410004  80.309998  80.680000  78.597084   \n",
       "     2    2019-01-04  82.000000  83.430000  80.900002  82.339996  80.214233   \n",
       "     3    2019-01-07  82.239998  84.510002  82.029999  83.550003  81.392998   \n",
       "     4    2019-01-08  84.129997  84.559998  82.430000  83.500000  81.344292   \n",
       "...              ...        ...        ...        ...        ...        ...   \n",
       "IHG  474  2020-11-17  61.090000  62.049999  60.930000  61.540001  61.540001   \n",
       "     475  2020-11-18  60.830002  61.730000  60.320000  60.320000  60.320000   \n",
       "     476  2020-11-19  59.060001  59.849998  58.880001  59.820000  59.820000   \n",
       "     477  2020-11-20  59.930000  60.130001  59.549999  59.669998  59.669998   \n",
       "     478                    NaN        NaN        NaN        NaN        NaN   \n",
       "\n",
       "             Volume  \n",
       "TSCO 0    1517100.0  \n",
       "     1    2161900.0  \n",
       "     2    2043500.0  \n",
       "     3    2540100.0  \n",
       "     4    2002800.0  \n",
       "...             ...  \n",
       "IHG  474   170400.0  \n",
       "     475   134200.0  \n",
       "     476   158000.0  \n",
       "     477   100500.0  \n",
       "     478        NaN  \n",
       "\n",
       "[3460 rows x 7 columns]"
      ]
     },
     "execution_count": 191,
     "metadata": {},
     "output_type": "execute_result"
    }
   ],
   "source": [
    "columns = ['Date','Open','High','Low','Close','Adj.Close','Volume']\n",
    "df0 = pd.read_json(json.dumps(jsonData[0]))\n",
    "df1 = pd.read_json(json.dumps(jsonData[1]))\n",
    "df2 = pd.read_json(json.dumps(jsonData[2]))\n",
    "df3 = pd.read_json(json.dumps(jsonData[3]))\n",
    "df4 = pd.read_json(json.dumps(jsonData[4]))\n",
    "df5 = pd.read_json(json.dumps(jsonData[5]))\n",
    "df6 = pd.read_json(json.dumps(jsonData[6]))\n",
    "df7 = pd.read_json(json.dumps(jsonData[7]))\n",
    "df8 = pd.read_json(json.dumps(jsonData[8]))\n",
    "\n",
    "companyNames = []\n",
    "for i in range(len(requestList)):\n",
    "    companyNames.append(json.loads(requestList[i].text)['data']['company'])\n",
    "\n",
    "df = pd.concat([df0,df1,df2,df3,df4,df5,df6,df7,df8], keys = companyNames)\n",
    "df.columns = columns\n",
    "df\n",
    "\n"
   ]
  },
  {
   "cell_type": "code",
   "execution_count": 190,
   "id": "5acd0e55-27ba-4331-a596-bc719a15a440",
   "metadata": {},
   "outputs": [
    {
     "data": {
      "text/plain": [
       "'2020-11-20'"
      ]
     },
     "execution_count": 190,
     "metadata": {},
     "output_type": "execute_result"
    }
   ],
   "source": [
    "df['Date'].min()\n",
    "df['Date'].max()\n",
    "\n"
   ]
  },
  {
   "cell_type": "code",
   "execution_count": 192,
   "id": "97f694f1-ad1a-404a-a4de-aba607c38de6",
   "metadata": {},
   "outputs": [
    {
     "data": {
      "text/plain": [
       "AUTO  417    2020-08-27\n",
       "Name: Date, dtype: object"
      ]
     },
     "execution_count": 192,
     "metadata": {},
     "output_type": "execute_result"
    }
   ],
   "source": [
    "#Date with highest volume\n",
    "df.loc[df['Volume']== df['Volume'].max(), 'Date']"
   ]
  },
  {
   "cell_type": "code",
   "execution_count": 194,
   "id": "9d8449e3-f41a-405a-ac4d-1c235d46a7ec",
   "metadata": {},
   "outputs": [
    {
     "data": {
      "text/html": [
       "<div>\n",
       "<style scoped>\n",
       "    .dataframe tbody tr th:only-of-type {\n",
       "        vertical-align: middle;\n",
       "    }\n",
       "\n",
       "    .dataframe tbody tr th {\n",
       "        vertical-align: top;\n",
       "    }\n",
       "\n",
       "    .dataframe thead th {\n",
       "        text-align: right;\n",
       "    }\n",
       "</style>\n",
       "<table border=\"1\" class=\"dataframe\">\n",
       "  <thead>\n",
       "    <tr style=\"text-align: right;\">\n",
       "      <th></th>\n",
       "      <th></th>\n",
       "      <th>Date</th>\n",
       "      <th>Open</th>\n",
       "      <th>High</th>\n",
       "      <th>Low</th>\n",
       "      <th>Close</th>\n",
       "      <th>Adj.Close</th>\n",
       "      <th>Volume</th>\n",
       "      <th>log_ret</th>\n",
       "    </tr>\n",
       "  </thead>\n",
       "  <tbody>\n",
       "    <tr>\n",
       "      <th rowspan=\"5\" valign=\"top\">TSCO</th>\n",
       "      <th>0</th>\n",
       "      <td>2019-01-02</td>\n",
       "      <td>81.809998</td>\n",
       "      <td>84.010002</td>\n",
       "      <td>80.860001</td>\n",
       "      <td>82.230003</td>\n",
       "      <td>80.107086</td>\n",
       "      <td>1517100.0</td>\n",
       "      <td>-0.005121</td>\n",
       "    </tr>\n",
       "    <tr>\n",
       "      <th>1</th>\n",
       "      <td>2019-01-03</td>\n",
       "      <td>82.080002</td>\n",
       "      <td>82.410004</td>\n",
       "      <td>80.309998</td>\n",
       "      <td>80.680000</td>\n",
       "      <td>78.597084</td>\n",
       "      <td>2161900.0</td>\n",
       "      <td>0.017204</td>\n",
       "    </tr>\n",
       "    <tr>\n",
       "      <th>2</th>\n",
       "      <td>2019-01-04</td>\n",
       "      <td>82.000000</td>\n",
       "      <td>83.430000</td>\n",
       "      <td>80.900002</td>\n",
       "      <td>82.339996</td>\n",
       "      <td>80.214233</td>\n",
       "      <td>2043500.0</td>\n",
       "      <td>-0.004138</td>\n",
       "    </tr>\n",
       "    <tr>\n",
       "      <th>3</th>\n",
       "      <td>2019-01-07</td>\n",
       "      <td>82.239998</td>\n",
       "      <td>84.510002</td>\n",
       "      <td>82.029999</td>\n",
       "      <td>83.550003</td>\n",
       "      <td>81.392998</td>\n",
       "      <td>2540100.0</td>\n",
       "      <td>-0.015804</td>\n",
       "    </tr>\n",
       "    <tr>\n",
       "      <th>4</th>\n",
       "      <td>2019-01-08</td>\n",
       "      <td>84.129997</td>\n",
       "      <td>84.559998</td>\n",
       "      <td>82.430000</td>\n",
       "      <td>83.500000</td>\n",
       "      <td>81.344292</td>\n",
       "      <td>2002800.0</td>\n",
       "      <td>0.007517</td>\n",
       "    </tr>\n",
       "    <tr>\n",
       "      <th>...</th>\n",
       "      <th>...</th>\n",
       "      <td>...</td>\n",
       "      <td>...</td>\n",
       "      <td>...</td>\n",
       "      <td>...</td>\n",
       "      <td>...</td>\n",
       "      <td>...</td>\n",
       "      <td>...</td>\n",
       "      <td>...</td>\n",
       "    </tr>\n",
       "    <tr>\n",
       "      <th rowspan=\"5\" valign=\"top\">IHG</th>\n",
       "      <th>474</th>\n",
       "      <td>2020-11-17</td>\n",
       "      <td>61.090000</td>\n",
       "      <td>62.049999</td>\n",
       "      <td>60.930000</td>\n",
       "      <td>61.540001</td>\n",
       "      <td>61.540001</td>\n",
       "      <td>170400.0</td>\n",
       "      <td>-0.007339</td>\n",
       "    </tr>\n",
       "    <tr>\n",
       "      <th>475</th>\n",
       "      <td>2020-11-18</td>\n",
       "      <td>60.830002</td>\n",
       "      <td>61.730000</td>\n",
       "      <td>60.320000</td>\n",
       "      <td>60.320000</td>\n",
       "      <td>60.320000</td>\n",
       "      <td>134200.0</td>\n",
       "      <td>0.008419</td>\n",
       "    </tr>\n",
       "    <tr>\n",
       "      <th>476</th>\n",
       "      <td>2020-11-19</td>\n",
       "      <td>59.060001</td>\n",
       "      <td>59.849998</td>\n",
       "      <td>58.880001</td>\n",
       "      <td>59.820000</td>\n",
       "      <td>59.820000</td>\n",
       "      <td>158000.0</td>\n",
       "      <td>-0.012786</td>\n",
       "    </tr>\n",
       "    <tr>\n",
       "      <th>477</th>\n",
       "      <td>2020-11-20</td>\n",
       "      <td>59.930000</td>\n",
       "      <td>60.130001</td>\n",
       "      <td>59.549999</td>\n",
       "      <td>59.669998</td>\n",
       "      <td>59.669998</td>\n",
       "      <td>100500.0</td>\n",
       "      <td>0.004348</td>\n",
       "    </tr>\n",
       "    <tr>\n",
       "      <th>478</th>\n",
       "      <td></td>\n",
       "      <td>NaN</td>\n",
       "      <td>NaN</td>\n",
       "      <td>NaN</td>\n",
       "      <td>NaN</td>\n",
       "      <td>NaN</td>\n",
       "      <td>NaN</td>\n",
       "      <td>NaN</td>\n",
       "    </tr>\n",
       "  </tbody>\n",
       "</table>\n",
       "<p>3460 rows × 8 columns</p>\n",
       "</div>"
      ],
      "text/plain": [
       "                Date       Open       High        Low      Close  Adj.Close  \\\n",
       "TSCO 0    2019-01-02  81.809998  84.010002  80.860001  82.230003  80.107086   \n",
       "     1    2019-01-03  82.080002  82.410004  80.309998  80.680000  78.597084   \n",
       "     2    2019-01-04  82.000000  83.430000  80.900002  82.339996  80.214233   \n",
       "     3    2019-01-07  82.239998  84.510002  82.029999  83.550003  81.392998   \n",
       "     4    2019-01-08  84.129997  84.559998  82.430000  83.500000  81.344292   \n",
       "...              ...        ...        ...        ...        ...        ...   \n",
       "IHG  474  2020-11-17  61.090000  62.049999  60.930000  61.540001  61.540001   \n",
       "     475  2020-11-18  60.830002  61.730000  60.320000  60.320000  60.320000   \n",
       "     476  2020-11-19  59.060001  59.849998  58.880001  59.820000  59.820000   \n",
       "     477  2020-11-20  59.930000  60.130001  59.549999  59.669998  59.669998   \n",
       "     478                    NaN        NaN        NaN        NaN        NaN   \n",
       "\n",
       "             Volume   log_ret  \n",
       "TSCO 0    1517100.0 -0.005121  \n",
       "     1    2161900.0  0.017204  \n",
       "     2    2043500.0 -0.004138  \n",
       "     3    2540100.0 -0.015804  \n",
       "     4    2002800.0  0.007517  \n",
       "...             ...       ...  \n",
       "IHG  474   170400.0 -0.007339  \n",
       "     475   134200.0  0.008419  \n",
       "     476   158000.0 -0.012786  \n",
       "     477   100500.0  0.004348  \n",
       "     478        NaN       NaN  \n",
       "\n",
       "[3460 rows x 8 columns]"
      ]
     },
     "execution_count": 194,
     "metadata": {},
     "output_type": "execute_result"
    }
   ],
   "source": [
    "df['log_ret'] = np.log(df['Open']/df['Close'])\n",
    "df"
   ]
  },
  {
   "cell_type": "code",
   "execution_count": 197,
   "id": "3b44bfcd-5539-4bff-8fd3-e3f817dc8180",
   "metadata": {},
   "outputs": [
    {
     "name": "stdout",
     "output_type": "stream",
     "text": [
      "AUTO  309    2020-03-25\n",
      "Name: Date, dtype: object\n"
     ]
    }
   ],
   "source": [
    "#Highest loss \n",
    "dateLoss = df.loc[df['log_ret']== df['log_ret'].min(), 'Date']\n",
    "print(dateLoss)"
   ]
  },
  {
   "cell_type": "code",
   "execution_count": null,
   "id": "1a607093-57c2-4fe1-b598-d4bca4243add",
   "metadata": {},
   "outputs": [],
   "source": []
  }
 ],
 "metadata": {
  "kernelspec": {
   "display_name": "Python 3 (ipykernel)",
   "language": "python",
   "name": "python3"
  },
  "language_info": {
   "codemirror_mode": {
    "name": "ipython",
    "version": 3
   },
   "file_extension": ".py",
   "mimetype": "text/x-python",
   "name": "python",
   "nbconvert_exporter": "python",
   "pygments_lexer": "ipython3",
   "version": "3.8.2"
  }
 },
 "nbformat": 4,
 "nbformat_minor": 5
}
