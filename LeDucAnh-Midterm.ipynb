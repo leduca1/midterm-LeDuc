{
 "cells": [
  {
   "cell_type": "code",
   "execution_count": 2,
   "id": "af3c5915-422c-4e8c-8819-ccc2a54aae1f",
   "metadata": {},
   "outputs": [],
   "source": [
    "#Midterm Le Duc Anh\n",
    "\n",
    "#importing packages\n",
    "import pandas as pd\n",
    "import numpy as np\n",
    "import requests\n",
    "import json\n",
    "\n",
    "from bs4 import BeautifulSoup\n",
    "import matplotlib.pyplot as plt\n",
    "import os"
   ]
  },
  {
   "cell_type": "code",
   "execution_count": null,
   "id": "33865080-5266-461e-be86-8434ed014dc3",
   "metadata": {},
   "outputs": [],
   "source": [
    "link = 'https://ies-midterm.soulution.rocks/'\n",
    "\n",
    "#post request\n",
    "\n",
    "r = requests.post(link + 'login', json = {\"cuni\":\"86542930\"})\n",
    "info = r.text\n",
    "\n",
    "\n"
   ]
  },
  {
   "cell_type": "code",
   "execution_count": 14,
   "id": "e01ee907-9d4f-406b-b710-232a756a6898",
   "metadata": {},
   "outputs": [
    {
     "data": {
      "text/plain": [
       "'{\"data\": {\"personal_code\": \"19b93536\", \"dataset_ids\": [\"86c214b421\", \"f894683be9\", \"11f651d1ee\", \"5aa21103e8\", \"779ce2818b\", \"7be200ce5b\", \"64a5d99db0\", \"3bd4cabfaa\", \"8c34bdfc03\"]}, \"message\": \"Hello, Le Duc Anh, Bc! Good luck with the midterm. GET your data set from /data/file_id endpoint; use the codes you received in the data response as the file_id parameter! Print the personal code in your notebook.\"}'"
      ]
     },
     "execution_count": 14,
     "metadata": {},
     "output_type": "execute_result"
    }
   ],
   "source": [
    "info"
   ]
  },
  {
   "cell_type": "code",
   "execution_count": 26,
   "id": "117d8aab-82a8-4526-90fe-27968c2e90e1",
   "metadata": {},
   "outputs": [
    {
     "name": "stdout",
     "output_type": "stream",
     "text": [
      "My personal code is 19b93536\n"
     ]
    }
   ],
   "source": [
    "infoJson = json.loads(info)\n",
    "personalCode = infoJson['data']['personal_code']\n",
    "print('My personal code is', personalCode)"
   ]
  },
  {
   "cell_type": "code",
   "execution_count": 30,
   "id": "f796a45b-6d0c-4878-8ed3-8c5534dd960b",
   "metadata": {},
   "outputs": [
    {
     "data": {
      "text/plain": [
       "['86c214b421',\n",
       " 'f894683be9',\n",
       " '11f651d1ee',\n",
       " '5aa21103e8',\n",
       " '779ce2818b',\n",
       " '7be200ce5b',\n",
       " '64a5d99db0',\n",
       " '3bd4cabfaa',\n",
       " '8c34bdfc03']"
      ]
     },
     "execution_count": 30,
     "metadata": {},
     "output_type": "execute_result"
    }
   ],
   "source": [
    "datasetIDs = infoJson['data']['dataset_ids']\n",
    "datasetIDs "
   ]
  },
  {
   "cell_type": "code",
   "execution_count": null,
   "id": "2073fdd5-57ba-4cc0-a525-1c93e4242515",
   "metadata": {},
   "outputs": [],
   "source": []
  }
 ],
 "metadata": {
  "kernelspec": {
   "display_name": "Python 3 (ipykernel)",
   "language": "python",
   "name": "python3"
  },
  "language_info": {
   "codemirror_mode": {
    "name": "ipython",
    "version": 3
   },
   "file_extension": ".py",
   "mimetype": "text/x-python",
   "name": "python",
   "nbconvert_exporter": "python",
   "pygments_lexer": "ipython3",
   "version": "3.8.2"
  }
 },
 "nbformat": 4,
 "nbformat_minor": 5
}
